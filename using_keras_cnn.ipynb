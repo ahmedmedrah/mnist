{
  "nbformat": 4,
  "nbformat_minor": 0,
  "metadata": {
    "language_info": {
      "codemirror_mode": {
        "name": "ipython",
        "version": 3
      },
      "file_extension": ".py",
      "mimetype": "text/x-python",
      "name": "python",
      "nbconvert_exporter": "python",
      "pygments_lexer": "ipython3",
      "version": "3.7.7-final"
    },
    "orig_nbformat": 2,
    "kernelspec": {
      "name": "python37664bitbaseconda6580541437ae4ee4bd799c9d9e1a3052",
      "display_name": "Python 3.7.6 64-bit ('base': conda)"
    },
    "colab": {
      "name": "test_dl.ipynb",
      "provenance": [],
      "collapsed_sections": [],
      "include_colab_link": true
    },
    "accelerator": "GPU"
  },
  "cells": [
    {
      "cell_type": "markdown",
      "metadata": {
        "id": "view-in-github",
        "colab_type": "text"
      },
      "source": [
        "<a href=\"https://colab.research.google.com/github/ahmedmedrah/mnist/blob/master/using_keras_cnn.ipynb\" target=\"_parent\"><img src=\"https://colab.research.google.com/assets/colab-badge.svg\" alt=\"Open In Colab\"/></a>"
      ]
    },
    {
      "cell_type": "code",
      "metadata": {
        "id": "COyseLDIRrEx",
        "colab_type": "code",
        "colab": {}
      },
      "source": [
        "import numpy as np\n",
        "import pandas as pd\n",
        "import matplotlib.pyplot as plt\n",
        "from sklearn.model_selection import train_test_split\n",
        "from tensorflow.keras.datasets import mnist"
      ],
      "execution_count": 0,
      "outputs": []
    },
    {
      "cell_type": "code",
      "metadata": {
        "id": "q9u6dQGERrFn",
        "colab_type": "code",
        "colab": {
          "base_uri": "https://localhost:8080/",
          "height": 34
        },
        "outputId": "435117bb-22df-4c1a-b65a-27583eb8f070"
      },
      "source": [
        "import tensorflow as tf\n",
        "from tensorflow.keras.models import Sequential\n",
        "from tensorflow.keras.layers import Dense, Dropout, Flatten\n",
        "from tensorflow.keras.layers import Conv2D, MaxPooling2D\n",
        "from keras.utils import np_utils\n",
        "# Set seed\n",
        "np.random.seed(0)"
      ],
      "execution_count": 2,
      "outputs": [
        {
          "output_type": "stream",
          "text": [
            "Using TensorFlow backend.\n"
          ],
          "name": "stderr"
        }
      ]
    },
    {
      "cell_type": "code",
      "metadata": {
        "id": "EXzcTcbKRrFs",
        "colab_type": "code",
        "colab": {}
      },
      "source": [
        "# Load data and target from MNIST data\n",
        "(data_train, target_train), (data_test, target_test) = mnist.load_data()\n",
        "# Reshape training image data into features\n",
        "data_train = data_train.reshape(data_train.shape[0], 28, 28, 1)\n",
        "# Reshape test image data into features\n",
        "data_test = data_test.reshape(data_test.shape[0], 28, 28, 1)\n",
        "# Rescale pixel intensity to between 0 and 1\n",
        "features_train = data_train / 255\n",
        "features_test = data_test / 255\n",
        "# One-hot encode target\n",
        "target_train = np_utils.to_categorical(target_train)\n",
        "target_test = np_utils.to_categorical(target_test)\n",
        "number_of_classes = target_test.shape[1]"
      ],
      "execution_count": 0,
      "outputs": []
    },
    {
      "cell_type": "code",
      "metadata": {
        "id": "0X2fJEQpRrFx",
        "colab_type": "code",
        "colab": {}
      },
      "source": [
        "# Start neural network\n",
        "network = Sequential()\n",
        "# Add convolutional layer with 16 filters, a 3x3 window, and ReLU activation function\n",
        "network.add(Conv2D(filters=32,\n",
        "            kernel_size=(3, 3),\n",
        "            input_shape=(28, 28, 1),\n",
        "            activation='relu'))\n",
        "# Add max pooling layer with a 2x2 window\n",
        "network.add(MaxPooling2D(pool_size=(2, 2)))\n",
        "# Add dropout layer\n",
        "network.add(Dropout(0.3))\n",
        "# Add convolutional layer with 32 filters, a 3x3 window, and ReLU activation function\n",
        "network.add(Conv2D(filters=64,\n",
        "            kernel_size=(3, 3),\n",
        "            input_shape=(28, 28, 1),\n",
        "            activation='relu'))\n",
        "# Add max pooling layer with a 2x2 window\n",
        "network.add(MaxPooling2D(pool_size=(2, 2)))\n",
        "# Add dropout layer\n",
        "network.add(Dropout(0.3))\n",
        "# Add layer to flatten input\n",
        "network.add(Flatten())\n",
        "# Add fully connected layer of 128 units with a ReLU activation function\n",
        "network.add(Dense(128, activation=\"relu\"))\n",
        "# Add dropout layer\n",
        "network.add(Dropout(0.3))\n",
        "network.add(Dense(128, activation=\"relu\"))\n",
        "# Add dropout layer\n",
        "network.add(Dropout(0.3))\n",
        "# Add fully connected layer with a softmax activation function\n",
        "network.add(Dense(number_of_classes, activation=\"softmax\"))\n",
        "# Compile neural network\n",
        "network.compile(loss=\"categorical_crossentropy\", # Cross-entropy\n",
        "                optimizer=\"adam\", # Root Mean Square Propagation\n",
        "                metrics=[\"accuracy\"]) # Accuracy performance metric"
      ],
      "execution_count": 0,
      "outputs": []
    },
    {
      "cell_type": "code",
      "metadata": {
        "id": "eixT3cDWRrF1",
        "colab_type": "code",
        "colab": {
          "base_uri": "https://localhost:8080/",
          "height": 697
        },
        "outputId": "164c4090-6261-49da-d3ef-dd4663edcf27"
      },
      "source": [
        "# Train neural network\n",
        "history = network.fit(features_train, # Features\n",
        "            target_train, # Target\n",
        "            epochs=20, # Number of epochs\n",
        "            verbose=2, # only one line per epoch\n",
        "            batch_size=256, # Number of observations per batch\n",
        "            validation_data=(features_test, target_test)) # Data for evaluation"
      ],
      "execution_count": 5,
      "outputs": [
        {
          "output_type": "stream",
          "text": [
            "Epoch 1/20\n",
            "235/235 [==============================] - 2s 9ms/step - loss: 0.5127 - accuracy: 0.8344 - val_loss: 0.0894 - val_accuracy: 0.9732\n",
            "Epoch 2/20\n",
            "235/235 [==============================] - 2s 8ms/step - loss: 0.1361 - accuracy: 0.9599 - val_loss: 0.0558 - val_accuracy: 0.9829\n",
            "Epoch 3/20\n",
            "235/235 [==============================] - 2s 8ms/step - loss: 0.0995 - accuracy: 0.9708 - val_loss: 0.0406 - val_accuracy: 0.9871\n",
            "Epoch 4/20\n",
            "235/235 [==============================] - 2s 8ms/step - loss: 0.0839 - accuracy: 0.9750 - val_loss: 0.0374 - val_accuracy: 0.9875\n",
            "Epoch 5/20\n",
            "235/235 [==============================] - 2s 8ms/step - loss: 0.0707 - accuracy: 0.9794 - val_loss: 0.0295 - val_accuracy: 0.9901\n",
            "Epoch 6/20\n",
            "235/235 [==============================] - 2s 8ms/step - loss: 0.0631 - accuracy: 0.9814 - val_loss: 0.0284 - val_accuracy: 0.9913\n",
            "Epoch 7/20\n",
            "235/235 [==============================] - 2s 8ms/step - loss: 0.0578 - accuracy: 0.9826 - val_loss: 0.0317 - val_accuracy: 0.9896\n",
            "Epoch 8/20\n",
            "235/235 [==============================] - 2s 8ms/step - loss: 0.0512 - accuracy: 0.9844 - val_loss: 0.0264 - val_accuracy: 0.9912\n",
            "Epoch 9/20\n",
            "235/235 [==============================] - 2s 8ms/step - loss: 0.0491 - accuracy: 0.9851 - val_loss: 0.0226 - val_accuracy: 0.9935\n",
            "Epoch 10/20\n",
            "235/235 [==============================] - 2s 8ms/step - loss: 0.0448 - accuracy: 0.9868 - val_loss: 0.0269 - val_accuracy: 0.9919\n",
            "Epoch 11/20\n",
            "235/235 [==============================] - 2s 8ms/step - loss: 0.0420 - accuracy: 0.9871 - val_loss: 0.0246 - val_accuracy: 0.9923\n",
            "Epoch 12/20\n",
            "235/235 [==============================] - 2s 8ms/step - loss: 0.0396 - accuracy: 0.9880 - val_loss: 0.0275 - val_accuracy: 0.9914\n",
            "Epoch 13/20\n",
            "235/235 [==============================] - 2s 8ms/step - loss: 0.0375 - accuracy: 0.9892 - val_loss: 0.0236 - val_accuracy: 0.9924\n",
            "Epoch 14/20\n",
            "235/235 [==============================] - 2s 8ms/step - loss: 0.0367 - accuracy: 0.9889 - val_loss: 0.0236 - val_accuracy: 0.9934\n",
            "Epoch 15/20\n",
            "235/235 [==============================] - 2s 8ms/step - loss: 0.0329 - accuracy: 0.9899 - val_loss: 0.0260 - val_accuracy: 0.9928\n",
            "Epoch 16/20\n",
            "235/235 [==============================] - 2s 8ms/step - loss: 0.0324 - accuracy: 0.9900 - val_loss: 0.0232 - val_accuracy: 0.9924\n",
            "Epoch 17/20\n",
            "235/235 [==============================] - 2s 8ms/step - loss: 0.0305 - accuracy: 0.9906 - val_loss: 0.0231 - val_accuracy: 0.9934\n",
            "Epoch 18/20\n",
            "235/235 [==============================] - 2s 8ms/step - loss: 0.0295 - accuracy: 0.9907 - val_loss: 0.0232 - val_accuracy: 0.9925\n",
            "Epoch 19/20\n",
            "235/235 [==============================] - 2s 8ms/step - loss: 0.0267 - accuracy: 0.9918 - val_loss: 0.0244 - val_accuracy: 0.9930\n",
            "Epoch 20/20\n",
            "235/235 [==============================] - 2s 8ms/step - loss: 0.0290 - accuracy: 0.9908 - val_loss: 0.0235 - val_accuracy: 0.9932\n"
          ],
          "name": "stdout"
        }
      ]
    },
    {
      "cell_type": "code",
      "metadata": {
        "id": "Jhnlaa-nRrF7",
        "colab_type": "code",
        "colab": {
          "base_uri": "https://localhost:8080/",
          "height": 279
        },
        "outputId": "dd488031-fe56-442a-9219-b0d97f14ff0a"
      },
      "source": [
        "# Get training and test loss histories\n",
        "training_loss = history.history[\"loss\"]\n",
        "test_loss = history.history[\"val_loss\"]\n",
        "# Create count of the number of epochs\n",
        "epoch_count = history.epoch\n",
        "# Visualize loss history\n",
        "plt.plot(epoch_count, training_loss, \"r--\")\n",
        "plt.plot(epoch_count, test_loss, \"b-\")\n",
        "plt.legend([\"Training Loss\", \"Test Loss\"])\n",
        "plt.xlabel(\"Epoch\")\n",
        "plt.ylabel(\"Loss\")\n",
        "plt.show();"
      ],
      "execution_count": 6,
      "outputs": [
        {
          "output_type": "display_data",
          "data": {
            "image/png": "[encoded data removed]",
            "text/plain": [
              "<Figure size 432x288 with 1 Axes>"
            ]
          },
          "metadata": {
            "tags": [],
            "needs_background": "light"
          }
        }
      ]
    },
    {
      "cell_type": "code",
      "metadata": {
        "id": "jAHmwXo2RrGF",
        "colab_type": "code",
        "colab": {
          "base_uri": "https://localhost:8080/",
          "height": 282
        },
        "outputId": "ed025961-8234-484e-c9d0-66f7090ad253"
      },
      "source": [
        "# Get training and test accuracy histories\n",
        "training_accuracy = history.history[\"accuracy\"]\n",
        "test_accuracy = history.history[\"val_accuracy\"]\n",
        "plt.plot(epoch_count, training_accuracy, \"r--\")\n",
        "plt.plot(epoch_count, test_accuracy, \"b-\")\n",
        "# Visualize accuracy history\n",
        "plt.legend([\"Training Accuracy\", \"Test Accuracy\"])\n",
        "plt.xlabel(\"Epoch\")\n",
        "plt.ylabel(\"Accuracy Score\")\n",
        "plt.show();"
      ],
      "execution_count": 7,
      "outputs": [
        {
          "output_type": "display_data",
          "data": {
            "image/png": "[encoded data removed]",
            "text/plain": [
              "<Figure size 432x288 with 1 Axes>"
            ]
          },
          "metadata": {
            "tags": [],
            "needs_background": "light"
          }
        }
      ]
    },
    {
      "cell_type": "code",
      "metadata": {
        "id": "g0-RrsN9RrGV",
        "colab_type": "code",
        "colab": {}
      },
      "source": [
        "test = pd.read_csv('test.csv')\n",
        "test = test / 255.0\n",
        "test = test.values.reshape(-1,28,28,1)\n",
        "results=network.predict(test)\n",
        "results = np.argmax(results,axis = 1)\n",
        "results = pd.Series(results,name=\"Label\")\n",
        "submission = pd.concat([pd.Series(range(1,28001),name = \"ImageId\"),results],axis = 1)\n",
        "submission.to_csv(\"cnn_mnist.csv\",index=False)"
      ],
      "execution_count": 0,
      "outputs": []
    },
    {
      "cell_type": "code",
      "metadata": {
        "id": "l6wXL0XYWMcl",
        "colab_type": "code",
        "colab": {}
      },
      "source": [
        ""
      ],
      "execution_count": 0,
      "outputs": []
    }
  ]
}